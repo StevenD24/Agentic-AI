{
 "cells": [
  {
   "cell_type": "markdown",
   "metadata": {},
   "source": [
    "# Welcome to the start of your adventure in Agentic AI\n"
   ]
  },
  {
   "cell_type": "markdown",
   "metadata": {},
   "source": [
    "<table style=\"margin: 0; text-align: left; width:100%\">\n",
    "    <tr>\n",
    "        <td style=\"width: 150px; height: 150px; vertical-align: middle;\">\n",
    "            <img src=\"../assets/stop.png\" width=\"150\" height=\"150\" style=\"display: block;\" />\n",
    "        </td>\n",
    "        <td>\n",
    "            <h2 style=\"color:#ff7800;\">Are you ready for action??</h2>\n",
    "            <span style=\"color:#ff7800;\">Have you completed all the setup steps in the <a href=\"../setup/\">setup</a> folder?<br/>\n",
    "            Have you checked out the guides in the <a href=\"../guides/01_intro.ipynb\">guides</a> folder?<br/>\n",
    "            Well in that case, you're ready!!\n",
    "            </span>\n",
    "        </td>\n",
    "    </tr>\n",
    "</table>\n"
   ]
  },
  {
   "cell_type": "markdown",
   "metadata": {},
   "source": [
    "<table style=\"margin: 0; text-align: left; width:100%\">\n",
    "    <tr>\n",
    "        <td style=\"width: 150px; height: 150px; vertical-align: middle;\">\n",
    "            <img src=\"../assets/tools.png\" width=\"150\" height=\"150\" style=\"display: block;\" />\n",
    "        </td>\n",
    "        <td>\n",
    "            <h2 style=\"color:#00bfff;\">This code is a live resource - keep an eye out for my updates</h2>\n",
    "            <span style=\"color:#00bfff;\">I push updates regularly. As people ask questions or have problems, I add more examples and improve explanations. As a result, the code below might not be identical to the videos, as I've added more steps and better comments. Consider this like an interactive book that accompanies the lectures.<br/><br/>\n",
    "            I try to send emails regularly with important updates related to the course. You can find this in the 'Announcements' section of Udemy in the left sidebar. You can also choose to receive my emails via your Notification Settings in Udemy. I'm respectful of your inbox and always try to add value with my emails!\n",
    "            </span>\n",
    "        </td>\n",
    "    </tr>\n",
    "</table>\n"
   ]
  },
  {
   "cell_type": "markdown",
   "metadata": {},
   "source": [
    "### And please do remember to contact me if I can help\n",
    "\n",
    "And I love to connect: https://www.linkedin.com/in/eddonner/\n",
    "\n",
    "### New to Notebooks like this one? Head over to the guides folder!\n",
    "\n",
    "Just to check you've already added the Python and Jupyter extensions to Cursor, if not already installed:\n",
    "\n",
    "- Open extensions (View >> extensions)\n",
    "- Search for python, and when the results show, click on the ms-python one, and Install it if not already installed\n",
    "- Search for jupyter, and when the results show, click on the Microsoft one, and Install it if not already installed  \n",
    "  Then View >> Explorer to bring back the File Explorer.\n",
    "\n",
    "And then:\n",
    "\n",
    "1. Click where it says \"Select Kernel\" near the top right, and select the option called `.venv (Python 3.12.9)` or similar, which should be the first choice or the most prominent choice. You may need to choose \"Python Environments\" first.\n",
    "2. Click in each \"cell\" below, starting with the cell immediately below this text, and press Shift+Enter to run\n",
    "3. Enjoy!\n",
    "\n",
    "After you click \"Select Kernel\", if there is no option like `.venv (Python 3.12.9)` then please do the following:\n",
    "\n",
    "1. On Mac: From the Cursor menu, choose Settings >> VS Code Settings (NOTE: be sure to select `VSCode Settings` not `Cursor Settings`);  \n",
    "   On Windows PC: From the File menu, choose Preferences >> VS Code Settings(NOTE: be sure to select `VSCode Settings` not `Cursor Settings`)\n",
    "2. In the Settings search bar, type \"venv\"\n",
    "3. In the field \"Path to folder with a list of Virtual Environments\" put the path to the project root, like C:\\Users\\username\\projects\\agents (on a Windows PC) or /Users/username/projects/agents (on Mac or Linux).  \n",
    "   And then try again.\n",
    "\n",
    "Having problems with missing Python versions in that list? Have you ever used Anaconda before? It might be interferring. Quit Cursor, bring up a new command line, and make sure that your Anaconda environment is deactivated:  \n",
    "`conda deactivate`  \n",
    "And if you still have any problems with conda and python versions, it's possible that you will need to run this too:  \n",
    "`conda config --set auto_activate_base false`  \n",
    "and then from within the Agents directory, you should be able to run `uv python list` and see the Python 3.12 version.\n"
   ]
  },
  {
   "cell_type": "code",
   "execution_count": 4,
   "metadata": {},
   "outputs": [],
   "source": [
    "# First let's do an import\n",
    "from dotenv import load_dotenv"
   ]
  },
  {
   "cell_type": "code",
   "execution_count": 5,
   "metadata": {},
   "outputs": [
    {
     "data": {
      "text/plain": [
       "True"
      ]
     },
     "execution_count": 5,
     "metadata": {},
     "output_type": "execute_result"
    }
   ],
   "source": [
    "# Next it's time to load the API keys into environment variables\n",
    "# looks for the .env file\n",
    "load_dotenv(override=True)"
   ]
  },
  {
   "cell_type": "code",
   "execution_count": 6,
   "metadata": {},
   "outputs": [
    {
     "name": "stdout",
     "output_type": "stream",
     "text": [
      "OpenAI API Key exists and begins sk-proj-\n"
     ]
    }
   ],
   "source": [
    "# Check the keys\n",
    "\n",
    "import os\n",
    "\n",
    "openai_api_key = os.getenv(\"OPENAI_API_KEY\")\n",
    "\n",
    "if openai_api_key:\n",
    "    print(f\"OpenAI API Key exists and begins {openai_api_key[:8]}\")\n",
    "else:\n",
    "    print(\n",
    "        \"OpenAI API Key not set - please head to the troubleshooting guide in the setup folder\"\n",
    "    )"
   ]
  },
  {
   "cell_type": "code",
   "execution_count": 7,
   "metadata": {},
   "outputs": [],
   "source": [
    "# And now - the all important import statement\n",
    "# If you get an import error - head over to troubleshooting guide\n",
    "\n",
    "from openai import OpenAI"
   ]
  },
  {
   "cell_type": "code",
   "execution_count": 8,
   "metadata": {},
   "outputs": [],
   "source": [
    "# And now we'll create an instance of the OpenAI class\n",
    "# If you're not sure what it means to create an instance of a class - head over to the guides folder!\n",
    "# If you get a NameError - head over to the guides folder to learn about NameErrors\n",
    "\n",
    "openai = OpenAI()"
   ]
  },
  {
   "cell_type": "code",
   "execution_count": 9,
   "metadata": {},
   "outputs": [],
   "source": [
    "# Create a list of messages in the familiar OpenAI format\n",
    "\n",
    "messages = [{\"role\": \"user\", \"content\": \"What is 2+2?\"}]"
   ]
  },
  {
   "cell_type": "code",
   "execution_count": 11,
   "metadata": {},
   "outputs": [
    {
     "name": "stdout",
     "output_type": "stream",
     "text": [
      "2 + 2 equals 4.\n"
     ]
    }
   ],
   "source": [
    "# And now call it! Any problems, head to the troubleshooting guide\n",
    "# This uses GPT 4.1 nano, the incredibly cheap model\n",
    "\n",
    "response = openai.chat.completions.create(\n",
    "    model=\"gpt-4o-mini\",\n",
    "    messages=messages,\n",
    ")\n",
    "\n",
    "print(response.choices[0].message.content)"
   ]
  },
  {
   "cell_type": "code",
   "execution_count": 13,
   "metadata": {},
   "outputs": [],
   "source": [
    "# And now - let's ask for a question:\n",
    "\n",
    "question = \"Please propose a hard, challenging question to assess someone's IQ. Respone only with the question.\"\n",
    "messages = [{\"role\": \"user\", \"content\": question}]"
   ]
  },
  {
   "cell_type": "code",
   "execution_count": 22,
   "metadata": {},
   "outputs": [
    {
     "name": "stdout",
     "output_type": "stream",
     "text": [
      "If a train leaves a station traveling at 60 miles per hour and another train leaves a different station traveling towards the first train at 90 miles per hour, and the two stations are 300 miles apart, how far from the first station will they meet?\n"
     ]
    }
   ],
   "source": [
    "# ask it - this uses GPT 4.1 mini, still cheap but more powerful than nano\n",
    "\n",
    "response = openai.chat.completions.create(\n",
    "    model=\"gpt-4o-mini\",\n",
    "    messages=messages,\n",
    ")\n",
    "\n",
    "question = response.choices[0].message.content\n",
    "\n",
    "print(question)"
   ]
  },
  {
   "cell_type": "code",
   "execution_count": 23,
   "metadata": {},
   "outputs": [],
   "source": [
    "# form a new messages list\n",
    "messages = [{\"role\": \"user\", \"content\": question}]"
   ]
  },
  {
   "cell_type": "code",
   "execution_count": 25,
   "metadata": {},
   "outputs": [
    {
     "name": "stdout",
     "output_type": "stream",
     "text": [
      "Let's define:\n",
      "\n",
      "- Distance between the two stations: 300 miles\n",
      "- Speed of the first train: 60 mph\n",
      "- Speed of the second train: 90 mph\n",
      "- Let \\( t \\) = time in hours when the two trains meet\n",
      "- Let \\( d \\) = distance from the first station to the meeting point\n",
      "\n",
      "---\n",
      "\n",
      "### Step 1: Expression for distances traveled by each train\n",
      "\n",
      "- Distance traveled by the first train in time \\( t \\): \\( 60t \\)\n",
      "- Distance traveled by the second train in time \\( t \\): \\( 90t \\)\n",
      "\n",
      "---\n",
      "\n",
      "### Step 2: Since the two trains meet after starting, their combined distance traveled is the total distance between stations\n",
      "\n",
      "\\[\n",
      "60t + 90t = 300\n",
      "\\]\n",
      "\n",
      "\\[\n",
      "150t = 300\n",
      "\\]\n",
      "\n",
      "\\[\n",
      "t = \\frac{300}{150} = 2 \\text{ hours}\n",
      "\\]\n",
      "\n",
      "---\n",
      "\n",
      "### Step 3: Calculate the distance from the first station to the meeting point\n",
      "\n",
      "\\[\n",
      "d = 60t = 60 \\times 2 = 120 \\text{ miles}\n",
      "\\]\n",
      "\n",
      "---\n",
      "\n",
      "**Answer:**\n",
      "\n",
      "The two trains will meet **120 miles** from the first station.\n"
     ]
    }
   ],
   "source": [
    "# Ask it again\n",
    "\n",
    "response = openai.chat.completions.create(\n",
    "    model=\"gpt-4.1-mini\",\n",
    "    messages=messages,\n",
    ")\n",
    "\n",
    "answer = response.choices[0].message.content\n",
    "print(answer)"
   ]
  },
  {
   "cell_type": "code",
   "execution_count": 26,
   "metadata": {},
   "outputs": [
    {
     "data": {
      "text/markdown": [
       "Let's define:\n",
       "\n",
       "- Distance between the two stations: 300 miles\n",
       "- Speed of the first train: 60 mph\n",
       "- Speed of the second train: 90 mph\n",
       "- Let \\( t \\) = time in hours when the two trains meet\n",
       "- Let \\( d \\) = distance from the first station to the meeting point\n",
       "\n",
       "---\n",
       "\n",
       "### Step 1: Expression for distances traveled by each train\n",
       "\n",
       "- Distance traveled by the first train in time \\( t \\): \\( 60t \\)\n",
       "- Distance traveled by the second train in time \\( t \\): \\( 90t \\)\n",
       "\n",
       "---\n",
       "\n",
       "### Step 2: Since the two trains meet after starting, their combined distance traveled is the total distance between stations\n",
       "\n",
       "\\[\n",
       "60t + 90t = 300\n",
       "\\]\n",
       "\n",
       "\\[\n",
       "150t = 300\n",
       "\\]\n",
       "\n",
       "\\[\n",
       "t = \\frac{300}{150} = 2 \\text{ hours}\n",
       "\\]\n",
       "\n",
       "---\n",
       "\n",
       "### Step 3: Calculate the distance from the first station to the meeting point\n",
       "\n",
       "\\[\n",
       "d = 60t = 60 \\times 2 = 120 \\text{ miles}\n",
       "\\]\n",
       "\n",
       "---\n",
       "\n",
       "**Answer:**\n",
       "\n",
       "The two trains will meet **120 miles** from the first station."
      ],
      "text/plain": [
       "<IPython.core.display.Markdown object>"
      ]
     },
     "metadata": {},
     "output_type": "display_data"
    }
   ],
   "source": [
    "from IPython.display import Markdown, display\n",
    "\n",
    "display(Markdown(answer))"
   ]
  },
  {
   "cell_type": "markdown",
   "metadata": {},
   "source": [
    "# Congratulations!\n",
    "\n",
    "That was a small, simple step in the direction of Agentic AI, with your new environment!\n",
    "\n",
    "Next time things get more interesting...\n"
   ]
  },
  {
   "cell_type": "markdown",
   "metadata": {},
   "source": [
    "<table style=\"margin: 0; text-align: left; width:100%\">\n",
    "    <tr>\n",
    "        <td style=\"width: 150px; height: 150px; vertical-align: middle;\">\n",
    "            <img src=\"../assets/exercise.png\" width=\"150\" height=\"150\" style=\"display: block;\" />\n",
    "        </td>\n",
    "        <td>\n",
    "            <h2 style=\"color:#ff7800;\">Exercise</h2>\n",
    "            <span style=\"color:#ff7800;\">Now try this commercial application:<br/>\n",
    "            First ask the LLM to pick a business area that might be worth exploring for an Agentic AI opportunity.<br/>\n",
    "            Then ask the LLM to present a pain-point in that industry - something challenging that might be ripe for an Agentic solution.<br/>\n",
    "            Finally have 3 third LLM call propose the Agentic AI solution.\n",
    "            </span>\n",
    "        </td>\n",
    "    </tr>\n",
    "</table>\n"
   ]
  },
  {
   "cell_type": "code",
   "execution_count": 28,
   "metadata": {},
   "outputs": [
    {
     "name": "stdout",
     "output_type": "stream",
     "text": [
      "Business area:  One promising business idea worth exploring in the realm of agentic AI is a **Personalized Health Coach** platform. This service would utilize advanced AI to deliver tailored health and wellness guidance by integrating various data sources such as wearables, health records, dietary preferences, and personal fitness goals.\n",
      "\n",
      "### Key Features:\n",
      "\n",
      "1. **Data Integration**: The platform could pull data from fitness trackers, health apps, sleep monitors, and user-reported metrics to create a comprehensive health profile.\n",
      "\n",
      "2. **AI-Driven Recommendations**: Using machine learning algorithms, the AI can analyze users' data to deliver personalized recommendations on diet, exercise, mental health practices, and lifestyle adjustments.\n",
      "\n",
      "3. **Chatbot Interface**: An agentic AI chatbot could serve as a real-time health coach, answering users’ queries, motivating them, and providing support through challenges.\n",
      "\n",
      "4. **Adaptive Learning**: The AI would continuously learn from user feedback and progress, allowing it to refine its recommendations over time to ensure they remain effective and relevant.\n",
      "\n",
      "5. **Community Engagement**: Users could be connected to peer support groups or forums for additional motivation and shared experiences, with the AI facilitating discussions based on user interests.\n",
      "\n",
      "6. **Expert Access**: Users could have the option to consult with certified health professionals through the platform for deeper, expert advice based on the AI-generated insights.\n",
      "\n",
      "7. **Goal Tracking and Analytics**: The platform could provide visual tracking tools for users to monitor their progress toward health goals and offer nudges or adjustments as needed to keep them on track.\n",
      "\n",
      "### Market Potential:\n",
      "\n",
      "The health and wellness industry is vast and continually growing, with consumers increasingly seeking personalized experiences. An AI-driven personalized health coach could cater to the growing demand for individualized health solutions without the high costs associated with traditional coaching and consulting services.\n",
      "\n",
      "### Unique Selling Proposition (USP):\n",
      "\n",
      "Combining cutting-edge AI technology with a holistic approach to health and wellness, this platform could stand out by providing a comprehensive, interactive, and effective alternative to existing solutions.\n",
      "\n",
      "This business idea offers the potential for both impact (improving overall wellness) and profitability, leveraging the increasing reliance on technology within the health sector, thereby creating a scalable and valuable service.\n",
      "Pain point:  A significant pain point that is ripe for an Agentic AI solution in the context of personalized health coaching is **user adherence and engagement** with health and wellness regimes. \n",
      "\n",
      "### Pain Point: Adherence to Health Programs\n",
      "\n",
      "Many individuals struggle to maintain consistent adherence to their health and wellness plans due to various barriers, such as lack of motivation, feeling overwhelmed by choices, or not receiving timely feedback. Traditional personal coaches can provide accountability, but they often lack the availability and personalization needed to truly resonate with users on a day-to-day basis.\n",
      "\n",
      "### Challenges:\n",
      "\n",
      "1. **Motivation Fluctuation**: Users may start with enthusiasm but lose motivation over time. Maintaining engagement through personalized interactions is crucial.\n",
      "\n",
      "2. **Information Overload**: Users often encounter too much information about health and wellness, which can be confusing and lead to indecision or abandonment of their goals.\n",
      "\n",
      "3. **Customization Needs**: What works for one person may not work for another. Achieving the right mix of guidance, motivation, and accountability requires constant adjustment based on individual needs.\n",
      "\n",
      "4. **Time Constraints**: Many individuals have busy lives and struggle to prioritize their health. Solutions need to provide value in a time-efficient manner.\n",
      "\n",
      "### Agentic AI Solution:\n",
      "\n",
      "To address these challenges, an Agentic AI could improve user adherence and engagement in the following ways:\n",
      "\n",
      "1. **Real-Time Motivation**: The AI could utilize data from wearables to provide ongoing motivation, sending timely reminders or encouragement based on the user’s activity levels, progress, or emotional state.\n",
      "\n",
      "2. **Adaptive Goal Setting**: Using insights from user interactions and historical data, the AI could intelligently adjust users’ goals based on their performance, ensuring they remain realistic yet challenging.\n",
      "\n",
      "3. **Gamification**: Implementing game-like elements such as rewards, challenges, or competitions could enhance engagement, making health adherence more enjoyable.\n",
      "\n",
      "4. **Personalized Content**: The AI could tailor educational content, exercises, and recipes to users’ preferences and needs, allowing them to navigate their health journey with clarity.\n",
      "\n",
      "5. **Proactive Interventions**: By recognizing patterns of disengagement or declines in performance, the AI could proactively reach out to users with tailored strategies to re-engage them.\n",
      "\n",
      "6. **Behavioral Insights**: The AI could analyze user behavior and feedback to identify triggers for lapses in adherence, allowing for targeted interventions to address these issues.\n",
      "\n",
      "### Conclusion:\n",
      "\n",
      "By focusing on enhancing user adherence and engagement through an Agentic AI solution, the Personalized Health Coach platform can significantly improve its effectiveness and user satisfaction. This approach not only addresses a common hurdle in health and wellness but also harnesses the power of AI to create an innovative and supportive user experience.\n",
      "Solution:  ### Agentic AI Solution: Personalized Health Coach Platform\n",
      "\n",
      "**Overview:**\n",
      "The Personalized Health Coach platform, enhanced by Agentic AI, aims to tackle the critical pain point of user adherence and engagement in health and wellness regimes. By leveraging advanced AI technologies, data analytics, and user-driven insights, this platform can provide tailored experiences that keep users motivated and committed to their health goals.\n",
      "\n",
      "### Key Features of the Agentic AI Solution:\n",
      "\n",
      "1. **Dynamic Engagement Engine:**\n",
      "   - The AI continuously monitors users' involvement levels based on their activity tracked via wearables and app interactions. The system sends personalized motivational messages, prompts, and reminders tailored to the user’s current status, promoting real-time engagement.\n",
      "\n",
      "2. **Smart Adaptation of Goals:**\n",
      "   - Using machine learning algorithms, the AI analyzes performance data over time to adjust user goals dynamically. This minimizes the risk of overwhelm by ensuring goals are attainable and relevant, thereby fostering a sense of accomplishment and progress.\n",
      "\n",
      "3. **Gamification Layer:**\n",
      "   - The platform introduces gamification strategies such as points, badges, and challenges. Users can earn rewards for completing tasks, achieving milestones, or competing in friendly challenges with peers, which can significantly enhance motivation and adherence.\n",
      "\n",
      "4. **Personalized Experience:**\n",
      "   - The AI curates bespoke plans based on user profiles that factor in preferences, past behaviors, and health data. This includes custom meal plans, workouts, and wellness activities that resonate with the individual's lifestyle, removing the struggle to sift through overwhelming options.\n",
      "\n",
      "5. **Proactive Engagement Alerts:**\n",
      "   - When the AI detects a decline in user engagement—such as missed workouts or consistent inactivity—it automatically triggers specific interventions. These could include tailored motivational messages, reminders about why they started their journey, or suggestions for easier tasks to help re-engage them.\n",
      "\n",
      "6. **Behavioral Analytics Dashboard:**\n",
      "   - Users have access to a comprehensive dashboard that visualizes their engagement patterns, progress towards goals, and the impact of their habits on overall health. This transparent feedback loop assists users in understanding their journey and making informed decisions.\n",
      "\n",
      "7. **Community and Expert Integration:**\n",
      "   - The AI facilitates connection with peer support groups and certified health professionals. Users can participate in community events or live Q&A sessions, enriching their experience and providing a platform for shared challenges and successes.\n",
      "\n",
      "8. **Contextual Communication:**\n",
      "   - The AI uses natural language processing to provide timely and context-aware responses via the chatbot interface, delivering support when the user might be most in need—be it a motivational quote after a tough day or a reminder of the user's goals.\n",
      "\n",
      "### Market Potential:\n",
      "\n",
      "With the wellness industry continuously expanding, the ability to offer real-time, personalized guidance at a scale that was previously unattainable presents a substantial market opportunity. Consumers increasingly demand tailored health solutions, and an AI-driven approach offers an efficient and scalable solution that can cater to diverse populations without overwhelming personal coaching expenses.\n",
      "\n",
      "### Unique Selling Proposition (USP):\n",
      "\n",
      "What sets this platform apart is its integration of agentic AI capable of proactive, adaptive engagement that evolves with the user. Unlike traditional one-size-fits-all coaching, the Personalized Health Coach provides an interactive and engaging experience that keeps users accountable, motivated, and informed.\n",
      "\n",
      "### Conclusion:\n",
      "\n",
      "The implementation of an Agentic AI solution within the Personalized Health Coach platform effectively addresses user adherence challenges in health and wellness. By creating a dynamic, engaging, and personalized health journey, the platform can significantly enhance user experience, foster long-term commitment to health goals, and ultimately drive impactful outcomes in the users’ lives. This innovative approach not only has the potential for substantial business growth but also for meaningful contributions to individual health and wellbeing.\n"
     ]
    }
   ],
   "source": [
    "# First create the messages:\n",
    "# Then make the first call:\n",
    "response1 = openai.chat.completions.create(\n",
    "    model=\"gpt-4o-mini\",\n",
    "    messages=[\n",
    "        {\"role\": \"system\", \"content\": \"You are a helpful assistant.\"},\n",
    "        {\"role\": \"user\", \"content\": \"Pick a business idea that is not already taken and might be worth exploring for an agentic ai opportunity.\"}\n",
    "    ],\n",
    ")\n",
    "\n",
    "business_area = response1.choices[0].message.content\n",
    "print(\"Business area: \", business_area)\n",
    "\n",
    "# Then read the business idea:\n",
    "response2 = openai.chat.completions.create(\n",
    "    model=\"gpt-4o-mini\",\n",
    "    messages=[\n",
    "        {\"role\": \"system\", \"content\": \"You are a helpful assistant.\"},\n",
    "        {\"role\": \"user\", \"content\": f\"In the business area of {business_area}, what is a pain-point or challenge that might be ripe for an Agentic AI solution?\"}\n",
    "    ],\n",
    ")\n",
    "\n",
    "pain_point = response2.choices[0].message.content\n",
    "print(\"Pain point: \", pain_point)\n",
    "\n",
    "# business_idea = response.\n",
    "response3 = openai.chat.completions.create(\n",
    "    model=\"gpt-4o-mini\",\n",
    "    messages=[\n",
    "        {\"role\": \"system\", \"content\": \"You are a helpful assistant.\"},\n",
    "        {\"role\": \"user\", \"content\": f\"Propose an Agentic AI solution for the following pain-point in {business_area}: {pain_point}\"}\n",
    "    ],\n",
    ")\n",
    "\n",
    "solution = response3.choices[0].message.content\n",
    "print(\"Solution: \", solution)\n",
    "\n",
    "# And repeat!"
   ]
  },
  {
   "cell_type": "markdown",
   "metadata": {},
   "source": []
  }
 ],
 "metadata": {
  "kernelspec": {
   "display_name": ".venv",
   "language": "python",
   "name": "python3"
  },
  "language_info": {
   "codemirror_mode": {
    "name": "ipython",
    "version": 3
   },
   "file_extension": ".py",
   "mimetype": "text/x-python",
   "name": "python",
   "nbconvert_exporter": "python",
   "pygments_lexer": "ipython3",
   "version": "3.12.8"
  }
 },
 "nbformat": 4,
 "nbformat_minor": 2
}
